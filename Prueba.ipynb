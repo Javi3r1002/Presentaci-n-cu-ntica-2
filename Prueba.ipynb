{
 "cells": [
  {
   "cell_type": "code",
   "execution_count": 13,
   "id": "c2e55324-533c-4842-b046-afb06d54ec6d",
   "metadata": {
    "ExecuteTime": {
     "end_time": "2023-11-15T18:38:10.225759600Z",
     "start_time": "2023-11-15T18:38:10.225759600Z"
    }
   },
   "outputs": [],
   "source": [
    "import math as m\n",
    "import qiskit\n",
    "#from qiskit import *\n",
    "from qiskit import BasicAer\n",
    "from qiskit import QuantumCircuit, ClassicalRegister, QuantumRegister"
   ]
  },
  {
   "cell_type": "code",
   "execution_count": 48,
   "id": "c19e002f-e0a6-4a7b-88da-f06e3b4bef04",
   "metadata": {
    "ExecuteTime": {
     "end_time": "2023-11-15T19:30:04.232608100Z",
     "start_time": "2023-11-15T19:30:04.146837700Z"
    }
   },
   "outputs": [
    {
     "name": "stdout",
     "output_type": "stream",
     "text": [
      "[0.15339299776947407, 0.6902684899626333, 0.6902684899626333, -0.15339299776947407]\n",
      "[0.7071067811865475, -0.7071067811865475]\n"
     ]
    }
   ],
   "source": [
    "#The first step is to encode the data into quantum states.\n",
    "#There are some techniques to do it, in this case Amplitude embedding was used\n",
    "\n",
    "A = [2,9]\n",
    "B = [9,-2]\n",
    "\n",
    "norm_A = 0 \n",
    "norm_B = 0\n",
    "Dist = 0\n",
    "for i in range(len(A)):\n",
    "    norm_A += A[i]**2\n",
    "    norm_B += B[i]**2\n",
    "    Dist += (A[i] - B[i])**2\n",
    "    \n",
    "Dist = m.sqrt(Dist)    \n",
    "A_norm = m.sqrt(norm_A)\n",
    "B_norm = m.sqrt(norm_B)\n",
    "Z = round( A_norm ** 2 + B_norm ** 2)\n",
    "\n",
    "# create phi and psi state with the data\n",
    "phi = [A_norm/m.sqrt(Z), -B_norm/m.sqrt(Z)]\n",
    "psi = []\n",
    "for i in range(len(A)):\n",
    "    psi.append(((A[i]/A_norm) / m.sqrt(2)))\n",
    "    psi.append(((B[i]/B_norm) / m.sqrt(2)))\n",
    "\n",
    "print(psi)\n",
    "print(phi)"
   ]
  },
  {
   "cell_type": "code",
   "execution_count": 46,
   "id": "04637d74-7030-4f6f-b317-3cf7c51098f7",
   "metadata": {
    "ExecuteTime": {
     "end_time": "2023-11-15T19:26:19.275447Z",
     "start_time": "2023-11-15T19:25:53.505423Z"
    }
   },
   "outputs": [
    {
     "name": "stderr",
     "output_type": "stream",
     "text": [
      "WARNING: Ignoring invalid distribution -rotobuf (c:\\users\\javi3\\appdata\\local\\programs\\python\\python39\\lib\\site-packages)\n",
      "WARNING: Ignoring invalid distribution -rotobuf (c:\\users\\javi3\\appdata\\local\\programs\\python\\python39\\lib\\site-packages)\n",
      "\n",
      "[notice] A new release of pip is available: 23.1.2 -> 23.3.1\n",
      "[notice] To update, run: python.exe -m pip install --upgrade pip\n"
     ]
    },
    {
     "name": "stdout",
     "output_type": "stream",
     "text": [
      "Requirement already satisfied: pylatexenc in c:\\users\\javi3\\appdata\\local\\programs\\python\\python39\\lib\\site-packages (2.10)Holi\n"
     ]
    },
    {
     "data": {
      "text/plain": "<Figure size 461.069x325.08 with 1 Axes>",
      "image/png": "[encoded data removed]"
     },
     "metadata": {},
     "output_type": "display_data"
    }
   ],
   "source": [
    "!pip  install pylatexenc\n",
    "q1 = QuantumRegister(1, name = 'q1')\n",
    "q2 = QuantumRegister(3, name = 'q2')\n",
    "c = ClassicalRegister(1, name = 'c')\n",
    "qc = QuantumCircuit(q1,q2,c)\n",
    "#States initialization\n",
    "qc.initialize(phi, q2[0])\n",
    "print('Holi')\n",
    "qc.initialize(psi, q2[1:3])\n",
    "\n",
    "# The swap test operator\n",
    "#qc.x(qreg[1])\n",
    "\n",
    "#swap_test\n",
    "qc.h(q1[0])\n",
    "qc.cswap(q1[0], q2[0], q2[1])\n",
    "qc.h(q1[0]) \n",
    "qc.measure(q1,c)\n",
    "\n",
    "display(qc.draw(output=\"mpl\"))"
   ]
  },
  {
   "cell_type": "code",
   "execution_count": 51,
   "id": "65c49b8f-ae89-44ee-bf84-c0d0b07d5db0",
   "metadata": {
    "ExecuteTime": {
     "end_time": "2023-11-15T19:31:24.946987500Z",
     "start_time": "2023-11-15T19:31:16.848644300Z"
    }
   },
   "outputs": [
    {
     "name": "stdout",
     "output_type": "stream",
     "text": [
      "Distancia cuántica:  12.73\n",
      "Distancia Euclideana:  13.038404810405298\n"
     ]
    }
   ],
   "source": [
    "shots = 10000\n",
    "job = execute(qc,BasicAer.get_backend('qasm_simulator'),shots=shots)\n",
    "job_result = job.result()\n",
    "counts = job_result.get_counts(qc)\n",
    "x = abs(((counts['0']/shots)-1/2)*2 * 2 * Z)\n",
    "Q_Dist = round(m.sqrt(x),4)\n",
    "print('Distancia cuántica: ', round(Q_Dist,3))\n",
    "print('Distancia Euclideana: ', Dist)"
   ]
  },
  {
   "cell_type": "code",
   "execution_count": 43,
   "outputs": [],
   "source": [],
   "metadata": {
    "collapsed": false,
    "ExecuteTime": {
     "end_time": "2023-11-15T19:24:56.539302200Z",
     "start_time": "2023-11-15T19:24:56.490433900Z"
    }
   },
   "id": "ee4f5dfeab4e61f4"
  },
  {
   "cell_type": "code",
   "execution_count": null,
   "outputs": [],
   "source": [],
   "metadata": {
    "collapsed": false
   },
   "id": "35d68363b2b2f5a6"
  }
 ],
 "metadata": {
  "kernelspec": {
   "display_name": "Python 3 (ipykernel)",
   "language": "python",
   "name": "python3"
  },
  "language_info": {
   "codemirror_mode": {
    "name": "ipython",
    "version": 3
   },
   "file_extension": ".py",
   "mimetype": "text/x-python",
   "name": "python",
   "nbconvert_exporter": "python",
   "pygments_lexer": "ipython3",
   "version": "3.9.6"
  }
 },
 "nbformat": 4,
 "nbformat_minor": 5
}
